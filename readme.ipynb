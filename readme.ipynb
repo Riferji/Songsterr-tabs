{
 "cells": [
  {
   "cell_type": "markdown",
   "metadata": {},
   "source": [
    "# Introduction\n",
    "\n",
    "In *https://www.songsterr.com/* we can find a lot of tablatures for guitar songs. In this proyect, we define an scrapper than takes an songsterr's url as input and takes screenshots from the page, save all of it in the disk, an finally bind all together in a single pdf using Miktext.\n",
    "\n",
    "# Libraries\n",
    "\n",
    "+ selenium\n",
    "+ pandas\n",
    "+ time\n",
    "+ tqdm\n",
    "+ os  \n",
    "+ io\n",
    "+ glob\n",
    "+ subprocess\n",
    "\n",
    "# How to start it\n",
    "\n",
    "You need to configure the path to Chrome.exe and Firefox.exe at the start of the Songsterr class.\n",
    "\n",
    "Secondly, you need to have *chromedriver* and *geckodriver* in your executable path (Provided in the folder). Those programs are necessary for run the Chrome and Firefox drivers.\n",
    "\n",
    "Finally, you need Miktext to compile the pdf in your shell (It will use the sentence *pdflatex \"{tex_path}\" -quiet -output-directory=\"{output_path}\" -aux-directory=\"{aux_path}\"*"
   ]
  }
 ],
 "metadata": {
  "kernelspec": {
   "display_name": "Python 3",
   "language": "python",
   "name": "python3"
  },
  "language_info": {
   "codemirror_mode": {
    "name": "ipython",
    "version": 3
   },
   "file_extension": ".py",
   "mimetype": "text/x-python",
   "name": "python",
   "nbconvert_exporter": "python",
   "pygments_lexer": "ipython3",
   "version": "3.7.4"
  }
 },
 "nbformat": 4,
 "nbformat_minor": 2
}
